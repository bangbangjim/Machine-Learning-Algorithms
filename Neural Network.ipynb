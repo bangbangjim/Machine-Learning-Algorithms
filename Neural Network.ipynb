{
 "cells": [
  {
   "cell_type": "markdown",
   "metadata": {
    "collapsed": true
   },
   "source": [
    "In here I am going to attempt to build a Neural_Network class from scratch and test it on both simple multi-class classification problem.\n",
    "Neural network works by \n"
   ]
  },
  {
   "cell_type": "code",
   "execution_count": 51,
   "metadata": {
    "scrolled": false
   },
   "outputs": [],
   "source": [
    "%matplotlib inline\n",
    "import numpy as np\n",
    "import matplotlib.pyplot as plt\n",
    "from sklearn.neural_network import MLPClassifier\n",
    "from scipy.stats import linregress\n",
    "from sklearn.model_selection import train_test_split\n",
    "import itertools\n",
    "import logging\n",
    "\n",
    "class Neural_network():\n",
    "    def __init__(self, X = np.array, y = np.array, hidden_layer_size  = tuple, alpha = float, num_iter = int, lamb = float):\n",
    "        self.X = X\n",
    "        # each element in y needs to be converted into the representative vector to allow computation\n",
    "        self.y_class = y\n",
    "        self.unique_class = np.unique(y).tolist()\n",
    "        #dataset is a numpy array with both the X and y (class representation) axis.\n",
    "        self.dataset = np.concatenate((self.X, self.y_class.reshape(-1,1)), axis = 1)\n",
    "        # convert the label into vector representation\n",
    "        self.y = self.label_convert(y)            \n",
    "        self.alpha = alpha\n",
    "        self.num_iter = num_iter\n",
    "        self.num_layer = len(hidden_layer_size) + 2\n",
    "        # initialise the weight matrix here\n",
    "        # the weight matrix of each layer is stored as elements inside a list\n",
    "        # there should be (len(whole_network_size) - 1) number of weight matx\n",
    "        self.weights = []\n",
    "\n",
    "        self.number_of_output = np.unique(y).size\n",
    "        self.whole_network_size = (X.shape[1],) + hidden_layer_size + (self.number_of_output,)\n",
    "        for i in range(len(self.whole_network_size) - 1):\n",
    "            ### initial weight shouldn't be zero\n",
    "            d = self.whole_network_size[i] + 1 # +1 to account for bias unit\n",
    "            limit = np.sqrt(1/d)\n",
    "            # the weight is a N x M matrix, where N is number of unit in the next layer, and M is the number of unit of \\ \n",
    "            # current layer + 1 bias unit\n",
    "            weight = np.random.uniform(-limit, limit, (self.whole_network_size[i+1], self.whole_network_size[i] + 1))\n",
    " #           weight = np.zeros()\n",
    "            self.weights.append(weight)\n",
    "        self.lamb = lamb\n",
    "        self.M = self.X.shape[0]\n",
    "        \n",
    "    def sigmoid(self, z = np.array):\n",
    "        h = 1/(1+np.exp(-z))\n",
    "        return h\n",
    "    def softmax(self, z = np.array):\n",
    "        #compute softmax of z (z is an N x M array, where N is the number of features and M is the number of training examples)\n",
    "        h = np.exp(z)/np.sum(np.exp(z), axis = 0)\n",
    "        return h\n",
    "    def forward_propagation(self, x = np.array):\n",
    "        # this is perform on one training example each time, and return the output as vector\n",
    "        # for now only use sigmoid function for activation hiddent and input layer\n",
    "        # forward propagation compute the sigmoid output of the dot product of Wi and ai up to the second last layer.\n",
    "        # the output of that would be the next layer input \n",
    "        # current_input is a N x M matrix, where N is the number of features and M is the number of examples\n",
    "        # the input (a) of each layer is stored in a list as vectors and has the structure of input layer + hidden layer\n",
    "\n",
    "        inputs = []\n",
    " #       print (x)\n",
    "        # start off with the features (X) as the first layer input (with bias unit). Input can always be expressed as a vector\n",
    "        current_input = np.concatenate((np.ones((x.shape[0], 1)), x), axis = 1).T.astype(np.float64)\n",
    "  #      current_input = np.insert(x, 0, 1.0).astype(np.float64).reshape(-1,1)\n",
    "        if current_input.shape != (x.shape[1]+1,x.shape[0]):\n",
    "            logging.warning(\"initial current_input shape is \" + str(current_input.shape) + \" when it is supposed to be \" + str((x.shape[1]+1,x.shape[0])))\n",
    "            \n",
    "  #      current_input = np.concatenate(np.ones(x.shape), x).T\n",
    "        inputs.append(current_input)\n",
    "        for i in range(len(self.whole_network_size) -2):\n",
    "            z = np.dot(self.weights[i], current_input)\n",
    "            if z.shape != (self.whole_network_size[i+1], x.shape[0]):\n",
    "                logging.warning(\"z shape is \" + str(z.shape) + \" when it is supposed to be \" + str((self.whole_network_size[i+1], x.shape[0])))\n",
    "            h = self.sigmoid(z)\n",
    "            #add a bias unit to each training example\n",
    "            current_input = np.concatenate((np.ones((1, x.shape[0])), h), axis = 0).astype(np.float64)\n",
    "       #     current_input = np.insert(h, 0, 1.0).astype(np.float64).reshape(-1,1)\n",
    "            if current_input.shape != (self.whole_network_size[i+1] + 1,x.shape[0]):\n",
    "                logging.warning(\"current_input shape is \" + str(current_input.shape) + \" when it is supposed to be \" + str((self.whole_network_size[i+1] + 1,x.shape[0])))\n",
    "            inputs.append(current_input)\n",
    "        #use softmax for final layer to compute the output, current input is now the input of the final hidden layer\n",
    "        z = np.dot(self.weights[-1], current_input)\n",
    "        if z.shape != (self.whole_network_size[-1], x.shape[0]):\n",
    "            logging.warning(\"final z shape is \" + str(z.shape))\n",
    "            \n",
    "        #output has the shape N x M, where N is the features and M is the number of training example\n",
    "            \n",
    "        output = self.softmax(z)  \n",
    "        \n",
    "        \n",
    "        return (inputs, output)\n",
    "    def backward_propagation(self, inputs = list, output = np.array, y_label = np.array):\n",
    "        # deltas is a list of vectors with shape identical to the corresponding neuron node of each layers \n",
    "        # gradients is a list of matrices of the gradient of cost functions. such list and matrices should have the \\\n",
    "        # same shape as the list weights\n",
    "        # back prop is performed on 1 training example each time (stochastic)\n",
    "        global gradients\n",
    "        global deltas\n",
    "        deltas = []\n",
    "        gradients = []\n",
    "\n",
    "        #compute the delta value of the last layer (output layer) first then propagate backward with loop\n",
    "        delta = (output - y_label).reshape(-1,1)\n",
    "#         print (output)\n",
    "#         print (y_label)\n",
    "        if delta.shape != output.shape:\n",
    "            logging.warning(\"initial delta shape is \" + str(delta.shape))            \n",
    "        deltas.append(delta)\n",
    "        \n",
    "        \n",
    "#         print (deltas)\n",
    "        # working backward from the last hidden layer, the gradient is computed and stored.\n",
    "        # the delta value of such layer is then computed and stored\n",
    "        # for the last layer (input), there's no regularisation term\n",
    "        for i in range(len(self.whole_network_size)-2, -1, -1):\n",
    "      #      print (i)\n",
    "            if i == 0:\n",
    "                lamb = 0\n",
    "            else:\n",
    "                lamb = self.lamb\n",
    "                \n",
    "            # if gradient return a single number, it's wrong. Should be the same shape as weight.\n",
    "            if i == len(self.whole_network_size)-2:\n",
    "                if delta.shape != (self.weights[i].shape[0], 1):\n",
    "                    logging.warning(str(i) +\" delta shape is\" + str(delta.shape) + \" when it is supposed to be \" + str((self.weights[i].shape[0], 1)))\n",
    "            else:\n",
    "                if delta.shape != (self.weights[i].shape[0], 1):\n",
    "                    logging.warning(str(i) +\" delta shape is\" + str(delta.shape) + \" when it is supposed to be \" + str((self.weights[i].shape[0], 1)))\n",
    "                \n",
    "            if inputs[i].T.shape != (1, self.weights[i].shape[1]):\n",
    "                logging.warning(\"input shape is\" + str(inputs[i].T.shape))\n",
    "                \n",
    "            gradient = np.dot(delta, inputs[i].T)  + (self.lamb/ self.M) * self.weights[i]\n",
    "#             if gradient.shape != (self.weights[i].shape:\n",
    "#                 logging.warning(\"gradient shape is\" + str(gradient.shape)  when it should be )\n",
    "                \n",
    "            gradients.insert(0, gradient)\n",
    "            \n",
    "            delta = np.dot(self.weights[i].T, delta) * inputs[i] * (1 - inputs[i])\n",
    "            delta = np.delete(delta, 0, axis = 0)\n",
    "            deltas.insert(0, delta)\n",
    "#            print (deltas)\n",
    "        # check if shape of gradients is the same as weights\n",
    "        for i in range(len(gradients)):\n",
    "            if gradients[i].shape != self.weights[i].shape:\n",
    "                logging.warning(\"gradient shape is\" + str(gradient.shape))\n",
    "        return gradients\n",
    "\n",
    "    def gradient_descent(self, gradients = list):\n",
    "        #gradients should have the exact same structure as weights (list of matrices)\n",
    "        for i in range(len(self.weights)):\n",
    "            self.weights[i] = self.weights[i] - self.alpha * gradients[i] # regularisation term already taken into account during back prop\n",
    "    def label_convert(self, y):\n",
    "        converted_output = []\n",
    "        for label in y:\n",
    "            output_vector = np.zeros(np.unique(y).size)\n",
    "            index_num = self.unique_class.index(label)\n",
    "            output_vector[index_num] = 1\n",
    "            converted_output.append(output_vector)\n",
    "        return np.array(converted_output)    \n",
    "        \n",
    "        \n",
    "    def fit(self):\n",
    "        global inputs\n",
    "        losses = {}\n",
    "        step = 0\n",
    "        np.random.shuffle(self.dataset)\n",
    "        X_shuffled, y_shuffled = np.hsplit(self.dataset, [self.dataset.shape[1]- 1,])\n",
    "        y_shuffled = self.label_convert(y_shuffled)  \n",
    "        for index in itertools.cycle(range(X_shuffled.shape[0])):\n",
    "            x = X_shuffled[index].reshape(1,-1)\n",
    "            inputs, output = self.forward_propagation(x)\n",
    "            \n",
    "            #compute the loss function here before gradient descent for every 10 iteration\n",
    "            if step %10 == 0:\n",
    "                _, outputs = self.forward_propagation(X_shuffled)\n",
    "                loss = (-1/y_shuffled.shape[0]) * np.sum(y_shuffled * np.log(outputs.T))\n",
    "                losses[step] = loss\n",
    "            \n",
    "            #update the weight\n",
    "            gradients = self.backward_propagation (inputs = inputs, output = output, y_label = y_shuffled[index].reshape(-1,1))\n",
    "            self.gradient_descent(gradients = gradients)    \n",
    "            step += 1\n",
    "            \n",
    "            #if number of iteration specified met, stop optimising.\n",
    "            if step > self.num_iter:\n",
    "                break\n",
    "        \n",
    "        return (losses)\n",
    "    def predict(self, X_test = np.array):\n",
    "        global outputs\n",
    "        global class_output\n",
    "        class_output = []\n",
    "        #convert the vector into the corresponding class with the highest score,\n",
    "        inputs, outputs = self.forward_propagation(X_test)\n",
    "        outputs[outputs == np.max(outputs, axis = 0)] = 1\n",
    "        outputs[outputs != np.max(outputs, axis = 0)] = 0\n",
    "        for output in outputs.T.tolist():\n",
    "            index_num = output.index(1)\n",
    "            clas = self.unique_class[index_num]\n",
    "            class_output.append(clas)\n",
    "\n",
    "        return np.array(class_output)\n",
    "\n",
    "    def score(self, X_test = np.array, y_test = np.array):\n",
    "        #compare the output to the actual label and work out the accuracy ratio.\n",
    "        predicted_outputs = self.predict(X_test)\n",
    "        accu = (predicted_outputs == y_test).sum()/len(predicted_outputs)\n",
    "        return accu          "
   ]
  },
  {
   "cell_type": "code",
   "execution_count": 52,
   "metadata": {},
   "outputs": [
    {
     "data": {
      "image/png": "[encoded data removed]",
      "text/plain": [
       "<matplotlib.figure.Figure at 0x20f01146588>"
      ]
     },
     "metadata": {},
     "output_type": "display_data"
    }
   ],
   "source": [
    "np.random.seed(10)\n",
    "A = np.random.multivariate_normal([7, 6], [[2, 1],[1, 2]], 1000)\n",
    "B = np.random.multivariate_normal([3, 0], [[2, 1],[1, 2]], 1000)\n",
    "C = np.random.multivariate_normal([0, 4], [[2, 1],[1, 2]], 1000)\n",
    "X = np.concatenate((A, B, C))\n",
    "y = np.concatenate((np.array([\"A\" for i in range(A.shape[0])]), \n",
    "                    np.array([\"B\" for i in range(B.shape[0])]), \n",
    "                    np.array([\"C\" for i in range(C.shape[0])])))\n",
    "cm = y.copy()\n",
    "cm[cm == \"A\"] = 1\n",
    "cm[cm == \"B\"] =2\n",
    "cm[cm ==\"C\"] =3\n",
    "plt.figure()\n",
    "plt.scatter(np.array([i[0] for i in X]), np.array([i[1] for i in X]), c = cm, alpha = 0.7)\n",
    "#plt.scatter(*np.hsplit(X, 2), c = y)\n",
    "plt.xlabel(\"X1\")\n",
    "plt.ylabel(\"X2\")\n",
    "plt.show()\n",
    "X_train, X_test, y_train, y_test = train_test_split(X,y, test_size = 0.2, random_state = 1)\n"
   ]
  },
  {
   "cell_type": "code",
   "execution_count": 53,
   "metadata": {},
   "outputs": [
    {
     "data": {
      "text/plain": [
       "0.96666666666666667"
      ]
     },
     "execution_count": 53,
     "metadata": {},
     "output_type": "execute_result"
    }
   ],
   "source": [
    "C = Neural_network(X_train, y_train, hidden_layer_size = (100,), alpha = 0.1, num_iter = 200, lamb = 0)\n",
    "losses = C.fit()\n",
    "C.score(X_test, y_test)"
   ]
  },
  {
   "cell_type": "code",
   "execution_count": 54,
   "metadata": {},
   "outputs": [
    {
     "name": "stderr",
     "output_type": "stream",
     "text": [
      "C:\\Users\\user\\Anaconda3\\lib\\site-packages\\sklearn\\neural_network\\multilayer_perceptron.py:564: ConvergenceWarning: Stochastic Optimizer: Maximum iterations (100) reached and the optimization hasn't converged yet.\n",
      "  % self.max_iter, ConvergenceWarning)\n"
     ]
    },
    {
     "data": {
      "text/plain": [
       "0.98333333333333328"
      ]
     },
     "execution_count": 54,
     "metadata": {},
     "output_type": "execute_result"
    }
   ],
   "source": [
    "mlp = MLPClassifier(hidden_layer_sizes = (100,), activation = \"logistic\", solver = \"sgd\", max_iter=100,alpha=0.01, shuffle = True, learning_rate = \"constant\")\n",
    "mlp = mlp.fit(X_train,y_train)\n",
    "mlp.score(X_test, y_test)\n"
   ]
  },
  {
   "cell_type": "code",
   "execution_count": 55,
   "metadata": {},
   "outputs": [
    {
     "data": {
      "text/plain": [
       "[<matplotlib.lines.Line2D at 0x20f012eff28>]"
      ]
     },
     "execution_count": 55,
     "metadata": {},
     "output_type": "execute_result"
    },
    {
     "data": {
      "image/png": "[encoded data removed]",
      "text/plain": [
       "<matplotlib.figure.Figure at 0x20f013087f0>"
      ]
     },
     "metadata": {},
     "output_type": "display_data"
    }
   ],
   "source": [
    "plt.figure()\n",
    "plt.title(\"loss vs number of iteration\")\n",
    "plt.ylabel(\"loss\")\n",
    "plt.xlabel(\"number of iteration\")\n",
    "plt.grid()\n",
    "plt.plot(list(losses.keys()), list(losses.values()), marker = \"o\")\n"
   ]
  },
  {
   "cell_type": "code",
   "execution_count": 56,
   "metadata": {},
   "outputs": [
    {
     "data": {
      "text/plain": [
       "[array([[-0.10507937,  0.25170887,  0.30221468, -0.20877027, -0.30539431,\n",
       "         -0.12870767,  0.03558218,  0.1472325 , -0.05431978, -0.10517979,\n",
       "         -0.25716618, -0.12065147,  0.11437679,  0.29573924,  0.07322081,\n",
       "          0.00378197,  0.00595916,  0.19602442,  0.00810725,  0.057292  ,\n",
       "          0.15503619,  0.31875163,  0.07549203, -0.30548983, -0.10158549,\n",
       "          0.31671866, -0.08869754, -0.04886965,  0.32707001,  0.22112803,\n",
       "         -0.29451637, -0.29941829, -0.08317602, -0.01683724, -0.04969247,\n",
       "          0.02948968, -0.16563773,  0.10869045,  0.14712154, -0.26839899,\n",
       "         -0.03491294,  0.2532804 , -0.1068715 ,  0.0429538 , -0.36477928,\n",
       "         -0.07595441, -0.04711623,  0.01322734, -0.21376352, -0.04311561,\n",
       "          0.09676241, -0.28827346, -0.00100825,  0.36194332, -0.02241404,\n",
       "          0.07089749,  0.13170632, -0.27493112,  0.28147639, -0.0504838 ,\n",
       "         -0.01634131, -0.09782363, -0.11870262, -0.35648496,  0.09432836,\n",
       "         -0.19388049,  0.06831557,  0.21147235,  0.08909213, -0.02402126,\n",
       "         -0.15698487, -0.40638098, -0.09531851,  0.11481454,  0.31605673,\n",
       "         -0.03579588, -0.07397368, -0.11885627,  0.03804117, -0.14698872,\n",
       "         -0.40652439, -0.22736417, -0.04996189, -0.03465758,  0.13051912,\n",
       "          0.03947   ,  0.01081331, -0.04972668, -0.24162766, -0.21098606,\n",
       "          0.17982186,  0.05086298,  0.03400039,  0.01203027,  0.00619886,\n",
       "          0.05173055,  0.17985316, -0.15355201,  0.08797275, -0.13358074],\n",
       "        [-0.11888078,  0.02699736, -0.08852293, -0.14080125,  0.22302463,\n",
       "         -0.12695056,  0.04509159,  0.14688153, -0.23315046,  0.04623826,\n",
       "         -0.01743206, -0.01647904, -0.39043119, -0.06866138, -0.09968668,\n",
       "          0.12437141,  0.05008399, -0.16987985, -0.0819961 , -0.3112398 ,\n",
       "          0.12126291, -0.06757848,  0.10990953,  0.28666993, -0.1958853 ,\n",
       "         -0.09393918,  0.16319923,  0.15165494, -0.11012916, -0.25154803,\n",
       "          0.15438055,  0.04891093, -0.16562612, -0.21402457,  0.15695277,\n",
       "         -0.05590378, -0.1273832 ,  0.19417263,  0.15619905,  0.01387439,\n",
       "         -0.09448862, -0.03177738, -0.22693453, -0.07279979,  0.18864808,\n",
       "         -0.06200929,  0.33524542, -0.23126135, -0.0270898 , -0.1845349 ,\n",
       "          0.01275571,  0.11236677,  0.24060956, -0.18301044, -0.15030135,\n",
       "         -0.13809829,  0.02421616,  0.27413732, -0.15432939, -0.13304185,\n",
       "         -0.1753163 , -0.14954796,  0.04369407,  0.20783203, -0.35241267,\n",
       "          0.21877279,  0.19307066,  0.05324518,  0.20927061, -0.29818894,\n",
       "         -0.13087055,  0.19273308, -0.13572757,  0.13050142, -0.05642498,\n",
       "         -0.13209939, -0.17173527, -0.16998632,  0.24085132,  0.13641809,\n",
       "          0.19704734,  0.19855275, -0.24405601,  0.28739139,  0.12796872,\n",
       "         -0.29504184, -0.27565411, -0.10112406, -0.02586756, -0.05117003,\n",
       "         -0.26946401, -0.30278381, -0.33153532, -0.25728545, -0.32889805,\n",
       "          0.27812865,  0.11133433,  0.111765  ,  0.07567679, -0.00527439]]),\n",
       " array([[-0.17379793,  0.14060962,  0.03994435],\n",
       "        [ 0.22684434,  0.00837311, -0.15760581],\n",
       "        [ 0.23901138,  0.18928576, -0.15727036],\n",
       "        [-0.33468521,  0.21540683,  0.18050079],\n",
       "        [-0.15817626, -0.23664908,  0.28996399],\n",
       "        [-0.21178752,  0.0857251 ,  0.00852824],\n",
       "        [-0.01464809, -0.03973997, -0.07590449],\n",
       "        [ 0.24013222, -0.08298832, -0.01533418],\n",
       "        [-0.2566092 ,  0.26318551, -0.01796866],\n",
       "        [-0.13414369, -0.11215972,  0.05320668],\n",
       "        [-0.20722617,  0.09333084,  0.22608984],\n",
       "        [-0.17470511, -0.07406305, -0.00265145],\n",
       "        [-0.24181811,  0.31387437, -0.1911295 ],\n",
       "        [ 0.18257829,  0.07302222, -0.24310841],\n",
       "        [ 0.02043799,  0.1670693 , -0.08408912],\n",
       "        [ 0.02345492, -0.00818089,  0.10625741],\n",
       "        [ 0.042518  ,  0.01090969,  0.08007406],\n",
       "        [ 0.04994094,  0.2045865 , -0.18486303],\n",
       "        [ 0.01754329,  0.10665492,  0.07416944],\n",
       "        [-0.15770403,  0.32434739, -0.04681995],\n",
       "        [ 0.11932595, -0.16795515, -0.12463911],\n",
       "        [ 0.23611782, -0.03027993, -0.32191358],\n",
       "        [ 0.07364102, -0.04334424, -0.05660797],\n",
       "        [-0.04368471, -0.27325839,  0.36870491],\n",
       "        [-0.21942195,  0.16585953,  0.02989546],\n",
       "        [ 0.19242602,  0.03008731, -0.31564992],\n",
       "        [-0.00218192, -0.13884466,  0.1110756 ],\n",
       "        [ 0.05165015, -0.12445297,  0.12376073],\n",
       "        [ 0.21246127,  0.17637651, -0.25362492],\n",
       "        [ 0.04312034,  0.28385621, -0.21217607],\n",
       "        [-0.13467664, -0.11869036,  0.33326972],\n",
       "        [-0.21624551,  0.03544672,  0.31948224],\n",
       "        [-0.25829669,  0.03736617, -0.04496887],\n",
       "        [-0.14136687,  0.22440642, -0.0389656 ],\n",
       "        [-0.02659285, -0.12626867,  0.09431931],\n",
       "        [-0.00302085,  0.09117448, -0.06051729],\n",
       "        [-0.28429998,  0.10774585,  0.09129172],\n",
       "        [ 0.21813868, -0.13123009,  0.02445339],\n",
       "        [ 0.1697462 , -0.16165832, -0.08480093],\n",
       "        [-0.22342885, -0.0374007 ,  0.23789685],\n",
       "        [-0.08925074,  0.14584911,  0.02016358],\n",
       "        [ 0.18775491,  0.00165967, -0.19794659],\n",
       "        [-0.24322676,  0.26869496,  0.13830243],\n",
       "        [-0.0064156 , -0.00750698, -0.09202532],\n",
       "        [-0.19030908, -0.19202851,  0.35597771],\n",
       "        [-0.131879  ,  0.04314458,  0.08266492],\n",
       "        [ 0.19326555, -0.30150002,  0.09438754],\n",
       "        [-0.19028621,  0.12884622, -0.06818825],\n",
       "        [-0.24450648,  0.08173047,  0.17589248],\n",
       "        [-0.1088362 ,  0.2168341 , -0.02642926],\n",
       "        [ 0.0769686 ,  0.06931138, -0.02111885],\n",
       "        [-0.15123062, -0.05654735,  0.31749986],\n",
       "        [ 0.05334123, -0.23762882,  0.08912911],\n",
       "        [ 0.21619697,  0.20940101, -0.28811602],\n",
       "        [-0.17217449,  0.03070097, -0.03756734],\n",
       "        [-0.04111373,  0.07015694, -0.08968404],\n",
       "        [ 0.16259092,  0.09421922, -0.02093376],\n",
       "        [-0.13244662, -0.30401193,  0.27295508],\n",
       "        [ 0.1804461 ,  0.22634386, -0.21599034],\n",
       "        [-0.09737661,  0.06932141, -0.03723449],\n",
       "        [-0.14903036,  0.14919114, -0.0616269 ],\n",
       "        [-0.12149199,  0.09819707,  0.00418706],\n",
       "        [-0.09244743,  0.03788785,  0.17565322],\n",
       "        [-0.05469877, -0.03045644,  0.45824221],\n",
       "        [-0.16495465,  0.34369133, -0.16194335],\n",
       "        [-0.05578966, -0.20965344,  0.16314552],\n",
       "        [ 0.15402891, -0.1441538 ,  0.00923608],\n",
       "        [ 0.11848399, -0.04197668, -0.20249296],\n",
       "        [ 0.1740052 , -0.09674355,  0.08407404],\n",
       "        [-0.30873002,  0.31878605, -0.01920799],\n",
       "        [-0.17994744,  0.21996759,  0.17729012],\n",
       "        [-0.29823889, -0.20116854,  0.38056906],\n",
       "        [-0.18714883,  0.16955386,  0.08154768],\n",
       "        [ 0.03367753, -0.18198289, -0.14619408],\n",
       "        [ 0.22615747, -0.02737499, -0.3183103 ],\n",
       "        [-0.03935442,  0.15607436,  0.02985982],\n",
       "        [-0.18696569,  0.06904474, -0.03659928],\n",
       "        [-0.19825147,  0.21661638,  0.12229392],\n",
       "        [ 0.22094101, -0.16086655,  0.13881033],\n",
       "        [-0.01469794, -0.14900501,  0.14715018],\n",
       "        [-0.2560082 , -0.1877503 ,  0.42135891],\n",
       "        [ 0.00241016, -0.07362854,  0.31244845],\n",
       "        [-0.24449962,  0.20753905,  0.00519578],\n",
       "        [ 0.15096494, -0.23277419,  0.09987105],\n",
       "        [ 0.06328536, -0.09131015, -0.08228316],\n",
       "        [-0.22265391,  0.27583837, -0.10376924],\n",
       "        [-0.17559191,  0.30357156, -0.07358592],\n",
       "        [-0.20377893, -0.00416778, -0.03438748],\n",
       "        [-0.277937  ,  0.07369437,  0.24089845],\n",
       "        [-0.2820599 ,  0.02807748,  0.1138779 ],\n",
       "        [-0.12328988,  0.1766542 , -0.27260925],\n",
       "        [-0.19906269,  0.295452  , -0.07775012],\n",
       "        [-0.24670706,  0.29605669, -0.09555501],\n",
       "        [-0.21339386,  0.19583909, -0.09946176],\n",
       "        [-0.3272516 ,  0.29263815, -0.08617734],\n",
       "        [ 0.24485409, -0.22632058,  0.04289339],\n",
       "        [ 0.208977  , -0.15351126, -0.13246608],\n",
       "        [-0.0567868 , -0.11622451,  0.19064299],\n",
       "        [ 0.0025021 , -0.11327332, -0.10227494],\n",
       "        [-0.09541132,  0.00589367,  0.15928452]])]"
      ]
     },
     "execution_count": 56,
     "metadata": {},
     "output_type": "execute_result"
    }
   ],
   "source": [
    "mlp.coefs_"
   ]
  },
  {
   "cell_type": "code",
   "execution_count": 57,
   "metadata": {},
   "outputs": [
    {
     "data": {
      "text/plain": [
       "{0: -0.32641420981042119,\n",
       " 10: -0.36654624158599103,\n",
       " 20: -0.39960067085148815,\n",
       " 30: -0.42312440909229565,\n",
       " 40: -0.45727708695190883,\n",
       " 50: -0.48691365874216525,\n",
       " 60: -0.51119198086066375,\n",
       " 70: -0.5355278173658059,\n",
       " 80: -0.55305978444552317,\n",
       " 90: -0.57426743929279334,\n",
       " 100: -0.58755606144952877}"
      ]
     },
     "execution_count": 57,
     "metadata": {},
     "output_type": "execute_result"
    }
   ],
   "source": [
    "W"
   ]
  },
  {
   "cell_type": "code",
   "execution_count": 58,
   "metadata": {},
   "outputs": [
    {
     "data": {
      "text/plain": [
       "(array([[ 0,  1,  2,  3,  4],\n",
       "        [ 5,  6,  7,  8,  9],\n",
       "        [10, 11, 12, 13, 14]]), array([[2, 2, 2, 2, 2],\n",
       "        [2, 2, 2, 2, 2],\n",
       "        [2, 2, 2, 2, 2]]))"
      ]
     },
     "execution_count": 58,
     "metadata": {},
     "output_type": "execute_result"
    }
   ],
   "source": [
    "np.array([i for i in range(15)]).reshape(3,5) , np.array([2 for i in range(15)]).reshape(3,5)"
   ]
  },
  {
   "cell_type": "code",
   "execution_count": 59,
   "metadata": {
    "collapsed": true
   },
   "outputs": [],
   "source": [
    "import numpy as np\n"
   ]
  },
  {
   "cell_type": "code",
   "execution_count": null,
   "metadata": {
    "collapsed": true
   },
   "outputs": [],
   "source": []
  }
 ],
 "metadata": {
  "kernelspec": {
   "display_name": "Python 3",
   "language": "python",
   "name": "python3"
  },
  "language_info": {
   "codemirror_mode": {
    "name": "ipython",
    "version": 3
   },
   "file_extension": ".py",
   "mimetype": "text/x-python",
   "name": "python",
   "nbconvert_exporter": "python",
   "pygments_lexer": "ipython3",
   "version": "3.6.2"
  }
 },
 "nbformat": 4,
 "nbformat_minor": 2
}
