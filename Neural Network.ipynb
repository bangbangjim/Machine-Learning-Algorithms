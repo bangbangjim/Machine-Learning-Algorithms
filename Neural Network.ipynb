{
 "cells": [
  {
   "cell_type": "markdown",
   "metadata": {
    "collapsed": true
   },
   "source": [
    "In here I am going to attempt to build a Neural_Network class from scratch and test it on both simple multi-class classification problem.\n",
    "Neural network works by \n"
   ]
  },
  {
   "cell_type": "code",
   "execution_count": 32,
   "metadata": {
    "scrolled": false
   },
   "outputs": [],
   "source": [
    "%matplotlib inline\n",
    "pylab.rcParams['figure.figsize'] = (12.0, 8.0)\n",
    "import numpy as np\n",
    "import matplotlib.pyplot as plt\n",
    "from sklearn.neural_network import MLPClassifier\n",
    "from scipy.stats import linregress\n",
    "from sklearn.model_selection import train_test_split\n",
    "import itertools\n",
    "import logging\n",
    "\n",
    "class Neural_network():\n",
    "    def __init__(self, X = np.array, y = np.array, hidden_layer_size  = tuple, alpha = float, num_iter = int, lamb = float):\n",
    "        self.X = X\n",
    "        # each element in y needs to be converted into the representative vector to allow computation\n",
    "        self.y_class = y\n",
    "        self.unique_class = np.unique(y).tolist()\n",
    "        #dataset is a numpy array with both the X and y (class representation) axis.\n",
    "        self.dataset = np.concatenate((self.X, self.y_class.reshape(-1,1)), axis = 1)\n",
    "        # convert the label into vector representation\n",
    "        self.y = self.label_convert(y)            \n",
    "        self.alpha = alpha\n",
    "        self.num_iter = num_iter\n",
    "        self.num_layer = len(hidden_layer_size) + 2\n",
    "        # initialise the weight matrix here\n",
    "        # the weight matrix of each layer is stored as elements inside a list\n",
    "        # there should be (len(whole_network_size) - 1) number of weight matx\n",
    "        self.weights = []\n",
    "\n",
    "        self.number_of_output = np.unique(y).size\n",
    "        self.whole_network_size = (X.shape[1],) + hidden_layer_size + (self.number_of_output,)\n",
    "        for i in range(len(self.whole_network_size) - 1):\n",
    "            ### initial weight shouldn't be zero\n",
    "            d = self.whole_network_size[i] + 1 # +1 to account for bias unit\n",
    "            limit = np.sqrt(1/d)\n",
    "            # the weight is a N x M matrix, where N is number of unit in the next layer, and M is the number of unit of \\ \n",
    "            # current layer + 1 bias unit\n",
    "            weight = np.random.uniform(-limit, limit, (self.whole_network_size[i+1], self.whole_network_size[i] + 1))\n",
    " #           weight = np.zeros()\n",
    "            self.weights.append(weight)\n",
    "        self.lamb = lamb\n",
    "        self.M = self.X.shape[0]\n",
    "        \n",
    "    def sigmoid(self, z = np.array):\n",
    "        h = 1/(1+np.exp(-z))\n",
    "        return h\n",
    "    def softmax(self, z = np.array):\n",
    "        #compute softmax of z (z is an N x M array, where N is the number of features and M is the number of training examples)\n",
    "        h = np.exp(z)/np.sum(np.exp(z), axis = 0)\n",
    "        return h\n",
    "    def forward_propagation(self, x = np.array):\n",
    "        # this is perform on one training example each time, and return the output as vector\n",
    "        # for now only use sigmoid function for activation hiddent and input layer\n",
    "        # forward propagation compute the sigmoid output of the dot product of Wi and ai up to the second last layer.\n",
    "        # the output of that would be the next layer input \n",
    "        # current_input is a N x M matrix, where N is the number of features and M is the number of examples\n",
    "        # the input (a) of each layer is stored in a list as vectors and has the structure of input layer + hidden layer\n",
    "\n",
    "        inputs = []\n",
    " #       print (x)\n",
    "        # start off with the features (X) as the first layer input (with bias unit). Input can always be expressed as a vector\n",
    "        current_input = np.concatenate((np.ones((x.shape[0], 1)), x), axis = 1).T.astype(np.float64)\n",
    "  #      current_input = np.insert(x, 0, 1.0).astype(np.float64).reshape(-1,1)\n",
    "        if current_input.shape != (x.shape[1]+1,x.shape[0]):\n",
    "            logging.warning(\"initial current_input shape is \" + str(current_input.shape) + \" when it is supposed to be \" + str((x.shape[1]+1,x.shape[0])))\n",
    "            \n",
    "  #      current_input = np.concatenate(np.ones(x.shape), x).T\n",
    "        inputs.append(current_input)\n",
    "        for i in range(len(self.whole_network_size) -2):\n",
    "            z = np.dot(self.weights[i], current_input)\n",
    "            if z.shape != (self.whole_network_size[i+1], x.shape[0]):\n",
    "                logging.warning(\"z shape is \" + str(z.shape) + \" when it is supposed to be \" + str((self.whole_network_size[i+1], x.shape[0])))\n",
    "            h = self.sigmoid(z)\n",
    "            #add a bias unit to each training example\n",
    "            current_input = np.concatenate((np.ones((1, x.shape[0])), h), axis = 0).astype(np.float64)\n",
    "       #     current_input = np.insert(h, 0, 1.0).astype(np.float64).reshape(-1,1)\n",
    "            if current_input.shape != (self.whole_network_size[i+1] + 1,x.shape[0]):\n",
    "                logging.warning(\"current_input shape is \" + str(current_input.shape) + \" when it is supposed to be \" + str((self.whole_network_size[i+1] + 1,x.shape[0])))\n",
    "            inputs.append(current_input)\n",
    "        #use softmax for final layer to compute the output, current input is now the input of the final hidden layer\n",
    "        z = np.dot(self.weights[-1], current_input)\n",
    "        if z.shape != (self.whole_network_size[-1], x.shape[0]):\n",
    "            logging.warning(\"final z shape is \" + str(z.shape))\n",
    "            \n",
    "        #output has the shape N x M, where N is the features and M is the number of training example\n",
    "            \n",
    "        output = self.softmax(z)  \n",
    "        \n",
    "        \n",
    "        return (inputs, output)\n",
    "    def backward_propagation(self, inputs = list, output = np.array, y_label = np.array):\n",
    "        # deltas is a list of vectors with shape identical to the corresponding neuron node of each layers \n",
    "        # gradients is a list of matrices of the gradient of cost functions. such list and matrices should have the \\\n",
    "        # same shape as the list weights\n",
    "        # back prop is performed on 1 training example each time (stochastic)\n",
    "        global gradients\n",
    "        global deltas\n",
    "        deltas = []\n",
    "        gradients = []\n",
    "\n",
    "        #compute the delta value of the last layer (output layer) first then propagate backward with loop\n",
    "        delta = (output - y_label).reshape(-1,1)\n",
    "#         print (output)\n",
    "#         print (y_label)\n",
    "        if delta.shape != output.shape:\n",
    "            logging.warning(\"initial delta shape is \" + str(delta.shape))            \n",
    "        deltas.append(delta)\n",
    "        \n",
    "        \n",
    "#         print (deltas)\n",
    "        # working backward from the last hidden layer, the gradient is computed and stored.\n",
    "        # the delta value of such layer is then computed and stored\n",
    "        # for the last layer (input), there's no regularisation term\n",
    "        for i in range(len(self.whole_network_size)-2, -1, -1):\n",
    "      #      print (i)\n",
    "            if i == 0:\n",
    "                lamb = 0\n",
    "            else:\n",
    "                lamb = self.lamb\n",
    "                \n",
    "            # if gradient return a single number, it's wrong. Should be the same shape as weight.\n",
    "            if i == len(self.whole_network_size)-2:\n",
    "                if delta.shape != (self.weights[i].shape[0], 1):\n",
    "                    logging.warning(str(i) +\" delta shape is\" + str(delta.shape) + \" when it is supposed to be \" + str((self.weights[i].shape[0], 1)))\n",
    "            else:\n",
    "                if delta.shape != (self.weights[i].shape[0], 1):\n",
    "                    logging.warning(str(i) +\" delta shape is\" + str(delta.shape) + \" when it is supposed to be \" + str((self.weights[i].shape[0], 1)))\n",
    "                \n",
    "            if inputs[i].T.shape != (1, self.weights[i].shape[1]):\n",
    "                logging.warning(\"input shape is\" + str(inputs[i].T.shape))\n",
    "                \n",
    "            gradient = np.dot(delta, inputs[i].T)  + (self.lamb/ self.M) * self.weights[i]\n",
    "#             if gradient.shape != (self.weights[i].shape:\n",
    "#                 logging.warning(\"gradient shape is\" + str(gradient.shape)  when it should be )\n",
    "                \n",
    "            gradients.insert(0, gradient)\n",
    "            \n",
    "            delta = np.dot(self.weights[i].T, delta) * inputs[i] * (1 - inputs[i])\n",
    "            delta = np.delete(delta, 0, axis = 0)\n",
    "            deltas.insert(0, delta)\n",
    "#            print (deltas)\n",
    "        # check if shape of gradients is the same as weights\n",
    "        for i in range(len(gradients)):\n",
    "            if gradients[i].shape != self.weights[i].shape:\n",
    "                logging.warning(\"gradient shape is\" + str(gradient.shape))\n",
    "        return gradients\n",
    "\n",
    "    def gradient_descent(self, gradients = list):\n",
    "        #gradients should have the exact same structure as weights (list of matrices)\n",
    "        for i in range(len(self.weights)):\n",
    "            self.weights[i] = self.weights[i] - self.alpha * gradients[i] # regularisation term already taken into account during back prop\n",
    "    def label_convert(self, y):\n",
    "        converted_output = []\n",
    "        for label in y:\n",
    "            output_vector = np.zeros(np.unique(y).size)\n",
    "            index_num = self.unique_class.index(label)\n",
    "            output_vector[index_num] = 1\n",
    "            converted_output.append(output_vector)\n",
    "        return np.array(converted_output)    \n",
    "        \n",
    "        \n",
    "    def fit(self):\n",
    "        global inputs\n",
    "        losses = {}\n",
    "        step = 0\n",
    "        np.random.shuffle(self.dataset)\n",
    "        X_shuffled, y_shuffled = np.hsplit(self.dataset, [self.dataset.shape[1]- 1,])\n",
    "        y_shuffled = self.label_convert(y_shuffled)  \n",
    "        for index in itertools.cycle(range(X_shuffled.shape[0])):\n",
    "            x = X_shuffled[index].reshape(1,-1)\n",
    "            inputs, output = self.forward_propagation(x)\n",
    "            \n",
    "            #compute the loss function here before gradient descent for every 10 iteration\n",
    "            if step %10 == 0:\n",
    "                _, outputs = self.forward_propagation(X_shuffled)\n",
    "                loss = (-1/y_shuffled.shape[0]) * np.sum(y_shuffled * np.log(outputs.T))\n",
    "                losses[step] = loss\n",
    "            \n",
    "            #update the weight\n",
    "            gradients = self.backward_propagation (inputs = inputs, output = output, y_label = y_shuffled[index].reshape(-1,1))\n",
    "            self.gradient_descent(gradients = gradients)    \n",
    "            step += 1\n",
    "            \n",
    "            #if number of iteration specified met, stop optimising.\n",
    "            if step > self.num_iter:\n",
    "                break\n",
    "        \n",
    "        return (losses)\n",
    "    def predict(self, X_test = np.array):\n",
    "        global outputs\n",
    "        global class_output\n",
    "        class_output = []\n",
    "        #convert the vector into the corresponding class with the highest score,\n",
    "        inputs, outputs = self.forward_propagation(X_test)\n",
    "        outputs[outputs == np.max(outputs, axis = 0)] = 1\n",
    "        outputs[outputs != np.max(outputs, axis = 0)] = 0\n",
    "        for output in outputs.T.tolist():\n",
    "            index_num = output.index(1)\n",
    "            clas = self.unique_class[index_num]\n",
    "            class_output.append(clas)\n",
    "\n",
    "        return np.array(class_output)\n",
    "\n",
    "    def score(self, X_test = np.array, y_test = np.array):\n",
    "        #compare the output to the actual label and work out the accuracy ratio.\n",
    "        predicted_outputs = self.predict(X_test)\n",
    "        accu = (predicted_outputs == y_test).sum()/len(predicted_outputs)\n",
    "        return accu          "
   ]
  },
  {
   "cell_type": "code",
   "execution_count": 46,
   "metadata": {},
   "outputs": [
    {
     "data": {
      "text/plain": [
       "0.96999999999999997"
      ]
     },
     "execution_count": 46,
     "metadata": {},
     "output_type": "execute_result"
    }
   ],
   "source": [
    "np.random.seed(10)\n",
    "A = np.random.multivariate_normal([7, 6], [[2, 1],[1, 2]], 1000)\n",
    "B = np.random.multivariate_normal([3, 0], [[2, 1],[1, 2]], 1000)\n",
    "C = np.random.multivariate_normal([0, 4], [[2, 1],[1, 2]], 1000)\n",
    "X = np.concatenate((A, B, C))\n",
    "y = np.concatenate((np.array([\"A\" for i in range(A.shape[0])]), \n",
    "                    np.array([\"B\" for i in range(B.shape[0])]), \n",
    "                    np.array([\"C\" for i in range(C.shape[0])])))\n",
    "cm = y.copy()\n",
    "cm[cm == \"A\"] = 1\n",
    "cm[cm == \"B\"] =2\n",
    "cm[cm ==\"C\"] =3\n",
    "plt.figure()\n",
    "plt.scatter(np.array([i[0] for i in X]), np.array([i[1] for i in X]), c = cm, alpha = 0.7)\n",
    "#plt.scatter(*np.hsplit(X, 2), c = y)\n",
    "plt.xlabel(\"X1\")\n",
    "plt.ylabel(\"X2\")\n",
    "plt.show()\n",
    "X_train, X_test, y_train, y_test = train_test_split(X,y, test_size = 0.2, random_state = 1)\n"
   ]
  },
  {
   "cell_type": "code",
   "execution_count": null,
   "metadata": {
    "collapsed": true
   },
   "outputs": [],
   "source": [
    "C = Neural_network(X_train, y_train, hidden_layer_size = (100,), alpha = 0.1, num_iter = 200, lamb = 0)\n",
    "losses = C.fit()\n",
    "C.score(X_test, y_test)"
   ]
  },
  {
   "cell_type": "code",
   "execution_count": 47,
   "metadata": {},
   "outputs": [
    {
     "name": "stderr",
     "output_type": "stream",
     "text": [
      "C:\\Users\\user\\Anaconda3\\lib\\site-packages\\sklearn\\neural_network\\multilayer_perceptron.py:564: ConvergenceWarning: Stochastic Optimizer: Maximum iterations (100) reached and the optimization hasn't converged yet.\n",
      "  % self.max_iter, ConvergenceWarning)\n"
     ]
    },
    {
     "data": {
      "text/plain": [
       "0.98333333333333328"
      ]
     },
     "execution_count": 47,
     "metadata": {},
     "output_type": "execute_result"
    }
   ],
   "source": [
    "mlp = MLPClassifier(hidden_layer_sizes = (100,), activation = \"logistic\", solver = \"sgd\", max_iter=100,alpha=0.01, shuffle = True, learning_rate = \"constant\")\n",
    "mlp = mlp.fit(X_train,y_train)\n",
    "mlp.score(X_test, y_test)\n"
   ]
  },
  {
   "cell_type": "code",
   "execution_count": 48,
   "metadata": {},
   "outputs": [
    {
     "data": {
      "text/plain": [
       "[<matplotlib.lines.Line2D at 0x20f7da3e5c0>]"
      ]
     },
     "execution_count": 48,
     "metadata": {},
     "output_type": "execute_result"
    },
    {
     "data": {
      "image/png": "[encoded data removed]",
      "text/plain": [
       "<matplotlib.figure.Figure at 0x20f01269cf8>"
      ]
     },
     "metadata": {},
     "output_type": "display_data"
    }
   ],
   "source": [
    "plt.figure()\n",
    "plt.title(\"loss vs number of iteration\")\n",
    "plt.ylabel(\"loss\")\n",
    "plt.xlabel(\"number of iteration\")\n",
    "plt.grid()\n",
    "plt.plot(list(losses.keys()), list(losses.values()), marker = \"o\")\n"
   ]
  },
  {
   "cell_type": "code",
   "execution_count": null,
   "metadata": {},
   "outputs": [],
   "source": [
    "mlp.coefs_"
   ]
  },
  {
   "cell_type": "code",
   "execution_count": null,
   "metadata": {},
   "outputs": [],
   "source": [
    "W"
   ]
  },
  {
   "cell_type": "code",
   "execution_count": null,
   "metadata": {},
   "outputs": [],
   "source": [
    "np.array([i for i in range(15)]).reshape(3,5) , np.array([2 for i in range(15)]).reshape(3,5)"
   ]
  },
  {
   "cell_type": "code",
   "execution_count": null,
   "metadata": {
    "collapsed": true
   },
   "outputs": [],
   "source": [
    "import numpy as np\n"
   ]
  },
  {
   "cell_type": "code",
   "execution_count": null,
   "metadata": {
    "collapsed": true
   },
   "outputs": [],
   "source": []
  }
 ],
 "metadata": {
  "kernelspec": {
   "display_name": "Python 3",
   "language": "python",
   "name": "python3"
  },
  "language_info": {
   "codemirror_mode": {
    "name": "ipython",
    "version": 3
   },
   "file_extension": ".py",
   "mimetype": "text/x-python",
   "name": "python",
   "nbconvert_exporter": "python",
   "pygments_lexer": "ipython3",
   "version": "3.6.2"
  }
 },
 "nbformat": 4,
 "nbformat_minor": 2
}
